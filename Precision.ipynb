{
 "cells": [
  {
   "cell_type": "markdown",
   "metadata": {},
   "source": [
    "# 精度 Precision\n",
    "numpy的浮点数精度支持到128位， 默认是64位"
   ]
  },
  {
   "cell_type": "code",
   "execution_count": 1,
   "metadata": {},
   "outputs": [],
   "source": [
    "import numpy as np\n",
    "\n",
    "def division(a, b):\n",
    "    if b == 0:\n",
    "        return\n",
    "    \n",
    "    print('result: ', a / b)\n",
    "    print('length of result: ', len(str(a / b)))"
   ]
  },
  {
   "cell_type": "code",
   "execution_count": 2,
   "metadata": {},
   "outputs": [
    {
     "name": "stdout",
     "output_type": "stream",
     "text": [
      "result:  0.3333333333333333\n",
      "length of result:  18\n"
     ]
    }
   ],
   "source": [
    "division(np.float(1), np.float(3))"
   ]
  },
  {
   "cell_type": "code",
   "execution_count": 3,
   "metadata": {},
   "outputs": [
    {
     "name": "stdout",
     "output_type": "stream",
     "text": [
      "result:  0.3333333333333333\n",
      "length of result:  18\n"
     ]
    }
   ],
   "source": [
    "division(np.double(1), np.double(3))"
   ]
  },
  {
   "cell_type": "code",
   "execution_count": 4,
   "metadata": {},
   "outputs": [
    {
     "name": "stdout",
     "output_type": "stream",
     "text": [
      "result:  0.33333333333333333334\n",
      "length of result:  22\n"
     ]
    }
   ],
   "source": [
    "division(np.longdouble(1), np.longdouble(3))"
   ]
  },
  {
   "cell_type": "code",
   "execution_count": 13,
   "metadata": {},
   "outputs": [
    {
     "name": "stdout",
     "output_type": "stream",
     "text": [
      "result:  0.33333334\n",
      "length of result:  10\n"
     ]
    }
   ],
   "source": [
    "division(np.float32(1), np.float32(3))"
   ]
  },
  {
   "cell_type": "code",
   "execution_count": 5,
   "metadata": {},
   "outputs": [
    {
     "name": "stdout",
     "output_type": "stream",
     "text": [
      "result:  0.33333333333333333334\n",
      "length of result:  22\n"
     ]
    }
   ],
   "source": [
    "division(np.float128(1), np.float128(3))"
   ]
  },
  {
   "cell_type": "code",
   "execution_count": 10,
   "metadata": {},
   "outputs": [
    {
     "name": "stdout",
     "output_type": "stream",
     "text": [
      "result:  0.33333333333333333334\n",
      "length of result:  22\n"
     ]
    }
   ],
   "source": [
    "# 向大精度的float看齐\n",
    "division(np.float128(1), np.float32(3))"
   ]
  },
  {
   "cell_type": "code",
   "execution_count": 12,
   "metadata": {},
   "outputs": [
    {
     "name": "stdout",
     "output_type": "stream",
     "text": [
      "result:  0.33333333333333333334\n",
      "length of result:  22\n"
     ]
    }
   ],
   "source": [
    "division(np.float32(1), np.float128(3))"
   ]
  }
 ],
 "metadata": {
  "kernelspec": {
   "display_name": "Python 3",
   "language": "python",
   "name": "python3"
  },
  "language_info": {
   "codemirror_mode": {
    "name": "ipython",
    "version": 3
   },
   "file_extension": ".py",
   "mimetype": "text/x-python",
   "name": "python",
   "nbconvert_exporter": "python",
   "pygments_lexer": "ipython3",
   "version": "3.6.4"
  }
 },
 "nbformat": 4,
 "nbformat_minor": 2
}
